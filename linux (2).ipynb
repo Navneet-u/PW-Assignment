{
  "nbformat": 4,
  "nbformat_minor": 0,
  "metadata": {
    "colab": {
      "provenance": []
    },
    "kernelspec": {
      "name": "python3",
      "display_name": "Python 3"
    },
    "language_info": {
      "name": "python"
    }
  },
  "cells": [
    {
      "cell_type": "markdown",
      "source": [
        "#linux Assignment\n",
        "1. What is linux?\n",
        "- Linux is free and open-source oprating system that's based on Unix. Like other operating systems (such as Windows or macOS), it manages a computer’s hardware and allows software to run.\n",
        "2. What is the difference between Hard Link & Soft Link?\n",
        "- Hard Link\n",
        "  - It's like having two names for the same file.\n",
        "  - Both names point directly to the file's data.\n",
        " - If you delete the original file, the other one still works.\n",
        "- Soft link\n",
        "  - It's like a shortcut to another file.\n",
        "  - It just points to the original file name, not the data.\n",
        "  - If the original file is deleted, the shortcut stops working.\n",
        "3. What is a Kernel in Linux?\n",
        "- The kernel is the core part of the Linux operating system.\n",
        "It acts as a bridge between the hardware and software.\n",
        "and manages the system’s resources, like the CPU, memory, and devices.\n",
        "\n"
      ],
      "metadata": {
        "id": "r2ni7bnwjU0p"
      }
    },
    {
      "cell_type": "code",
      "source": [
        "# 4 I How do you create a user account?\n",
        "'''\n",
        " sudo adduser new\n",
        "\n",
        "'''\n"
      ],
      "metadata": {
        "id": "ZhYYObJhENLC"
      },
      "execution_count": null,
      "outputs": []
    },
    {
      "cell_type": "markdown",
      "source": [
        "5. What is the ‘grep’ command used for in Linux?\n",
        "- The grep command is used in Linux to search for specific text or patterns inside files."
      ],
      "metadata": {
        "id": "ZisEs3Y5FWVk"
      }
    },
    {
      "cell_type": "code",
      "source": [
        "#6.\n",
        "\n",
        "     # Step1: Create user p1\n",
        "     ''' sudo adduser p1 '''\n",
        "     # Step2: He should be part of 3 groups g1,g2,g3.\n",
        "     '''\n",
        "      sudo groupadd g1\n",
        "      sudo groupadd g2\n",
        "      sudo groupadd g3\n",
        "      '''\n",
        "      # Step3: whenever he creates a file automatically in the group section of file grp g1 should come.\n",
        "      '''\n",
        "      sudo usermod -aG g1,g2,g3 p1\n",
        "      sudo usermod -g g1 p1\n",
        "      '''\n",
        ""
      ],
      "metadata": {
        "id": "7qVDDLdMWjbC"
      },
      "execution_count": null,
      "outputs": []
    },
    {
      "cell_type": "code",
      "source": [
        "#7.\n",
        "      # Step1: Create directory /tmp/bg as root user and create files inside it.\n",
        "      ''' sudo mkdir /tmp/bg\n",
        "          sudo touch /tmp/bg/file1 /tmp/bg/file2  '''\n",
        "\n",
        "      # Step2: “abhi” should be the owner of the directory. He should be able to create files and delete files inside the directory and also he should be able to add content to all files inside the directory.\n",
        "      '''\n",
        ""
      ],
      "metadata": {
        "id": "SX6ql7kxXqQe"
      },
      "execution_count": null,
      "outputs": []
    },
    {
      "cell_type": "markdown",
      "source": [
        "8. You suspect that a particular process is consuming excessive CPU resources on your Linux server. How would you identify and terminate this process?\n",
        "- **top** command to identify  \n",
        " **kill**  comand to terminate the process"
      ],
      "metadata": {
        "id": "CJGiiMmHZ7Ux"
      }
    }
  ]
}